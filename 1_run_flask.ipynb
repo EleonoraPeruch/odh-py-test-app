{
 "cells": [
  {
   "cell_type": "markdown",
   "metadata": {},
   "source": [
    "## Run Flask\n",
    "Run your flask app (`wsgi.py`) from here and test it from a separate notebook."
   ]
  },
  {
   "cell_type": "code",
   "execution_count": 8,
   "metadata": {},
   "outputs": [
    {
     "name": "stdout",
     "output_type": "stream",
     "text": [
      "Requirement already satisfied: Flask in /opt/app-root/lib/python3.8/site-packages (from -r requirements.txt (line 1)) (2.0.2)\n",
      "Requirement already satisfied: gunicorn in /opt/app-root/lib/python3.8/site-packages (from -r requirements.txt (line 2)) (20.1.0)\n",
      "Requirement already satisfied: requests in /opt/app-root/lib/python3.8/site-packages (from -r requirements.txt (line 3)) (2.26.0)\n",
      "Requirement already satisfied: xgboost_ray in /opt/app-root/lib/python3.8/site-packages (from -r requirements.txt (line 4)) (0.1.6)\n",
      "Requirement already satisfied: tensorflow>=2.4.* in /opt/app-root/lib/python3.8/site-packages (from -r requirements.txt (line 6)) (2.4.4)\n",
      "Requirement already satisfied: scikit-learn>=0.22.* in /opt/app-root/lib/python3.8/site-packages (from -r requirements.txt (line 7)) (0.24.1)\n",
      "Requirement already satisfied: numpy>=1.19.2 in /opt/app-root/lib/python3.8/site-packages (from -r requirements.txt (line 8)) (1.19.2)\n",
      "Requirement already satisfied: pandas>=1.2.4 in /opt/app-root/lib/python3.8/site-packages (from -r requirements.txt (line 9)) (1.2.4)\n",
      "Requirement already satisfied: keras>=2.4.* in /opt/app-root/lib/python3.8/site-packages (from -r requirements.txt (line 10)) (2.4.3)\n",
      "Requirement already satisfied: Pillow>=2.9.0 in /opt/app-root/lib/python3.8/site-packages (from -r requirements.txt (line 11)) (8.3.2)\n",
      "Requirement already satisfied: scipy>=0.15.1 in /opt/app-root/lib/python3.8/site-packages (from -r requirements.txt (line 13)) (1.6.2)\n",
      "Requirement already satisfied: matplotlib>=1.4.3 in /opt/app-root/lib/python3.8/site-packages (from -r requirements.txt (line 14)) (3.4.1)\n",
      "Requirement already satisfied: Jinja2>=3.0 in /opt/app-root/lib/python3.8/site-packages (from Flask->-r requirements.txt (line 1)) (3.0.3)\n",
      "Requirement already satisfied: click>=7.1.2 in /opt/app-root/lib/python3.8/site-packages (from Flask->-r requirements.txt (line 1)) (8.0.1)\n",
      "Requirement already satisfied: itsdangerous>=2.0 in /opt/app-root/lib/python3.8/site-packages (from Flask->-r requirements.txt (line 1)) (2.0.1)\n",
      "Requirement already satisfied: Werkzeug>=2.0 in /opt/app-root/lib/python3.8/site-packages (from Flask->-r requirements.txt (line 1)) (2.0.1)\n",
      "Requirement already satisfied: setuptools>=3.0 in /opt/app-root/lib/python3.8/site-packages (from gunicorn->-r requirements.txt (line 2)) (58.4.0)\n",
      "Requirement already satisfied: idna<4,>=2.5 in /opt/app-root/lib/python3.8/site-packages (from requests->-r requirements.txt (line 3)) (3.2)\n",
      "Requirement already satisfied: certifi>=2017.4.17 in /opt/app-root/lib/python3.8/site-packages (from requests->-r requirements.txt (line 3)) (2021.5.30)\n",
      "Requirement already satisfied: charset-normalizer~=2.0.0 in /opt/app-root/lib/python3.8/site-packages (from requests->-r requirements.txt (line 3)) (2.0.6)\n",
      "Requirement already satisfied: urllib3<1.27,>=1.21.1 in /opt/app-root/lib/python3.8/site-packages (from requests->-r requirements.txt (line 3)) (1.26.7)\n",
      "Requirement already satisfied: xgboost>=0.90 in /opt/app-root/lib/python3.8/site-packages (from xgboost_ray->-r requirements.txt (line 4)) (1.5.2)\n",
      "Requirement already satisfied: ray>=1.6 in /opt/app-root/lib/python3.8/site-packages (from xgboost_ray->-r requirements.txt (line 4)) (1.9.2)\n",
      "Requirement already satisfied: wrapt>=1.12.1 in /opt/app-root/lib/python3.8/site-packages (from xgboost_ray->-r requirements.txt (line 4)) (1.12.1)\n",
      "Requirement already satisfied: keras-preprocessing~=1.1.2 in /opt/app-root/lib/python3.8/site-packages (from tensorflow>=2.4.*->-r requirements.txt (line 6)) (1.1.2)\n",
      "Requirement already satisfied: gast==0.3.3 in /opt/app-root/lib/python3.8/site-packages (from tensorflow>=2.4.*->-r requirements.txt (line 6)) (0.3.3)\n",
      "Requirement already satisfied: astunparse~=1.6.3 in /opt/app-root/lib/python3.8/site-packages (from tensorflow>=2.4.*->-r requirements.txt (line 6)) (1.6.3)\n",
      "Requirement already satisfied: flatbuffers~=1.12.0 in /opt/app-root/lib/python3.8/site-packages (from tensorflow>=2.4.*->-r requirements.txt (line 6)) (1.12)\n",
      "Requirement already satisfied: tensorboard~=2.4 in /opt/app-root/lib/python3.8/site-packages (from tensorflow>=2.4.*->-r requirements.txt (line 6)) (2.8.0)\n",
      "Requirement already satisfied: grpcio~=1.32.0 in /opt/app-root/lib/python3.8/site-packages (from tensorflow>=2.4.*->-r requirements.txt (line 6)) (1.32.0)\n",
      "Requirement already satisfied: six~=1.15.0 in /opt/app-root/lib/python3.8/site-packages (from tensorflow>=2.4.*->-r requirements.txt (line 6)) (1.15.0)\n",
      "Requirement already satisfied: wheel~=0.35 in /opt/app-root/lib/python3.8/site-packages (from tensorflow>=2.4.*->-r requirements.txt (line 6)) (0.37.0)\n",
      "Requirement already satisfied: termcolor~=1.1.0 in /opt/app-root/lib/python3.8/site-packages (from tensorflow>=2.4.*->-r requirements.txt (line 6)) (1.1.0)\n",
      "Requirement already satisfied: typing-extensions~=3.7.4 in /opt/app-root/lib/python3.8/site-packages (from tensorflow>=2.4.*->-r requirements.txt (line 6)) (3.7.4.3)\n",
      "Requirement already satisfied: opt-einsum~=3.3.0 in /opt/app-root/lib/python3.8/site-packages (from tensorflow>=2.4.*->-r requirements.txt (line 6)) (3.3.0)\n",
      "Requirement already satisfied: protobuf>=3.9.2 in /opt/app-root/lib/python3.8/site-packages (from tensorflow>=2.4.*->-r requirements.txt (line 6)) (3.18.0)\n",
      "Requirement already satisfied: absl-py~=0.10 in /opt/app-root/lib/python3.8/site-packages (from tensorflow>=2.4.*->-r requirements.txt (line 6)) (0.14.0)\n",
      "Requirement already satisfied: tensorflow-estimator<2.5.0,>=2.4.0 in /opt/app-root/lib/python3.8/site-packages (from tensorflow>=2.4.*->-r requirements.txt (line 6)) (2.4.0)\n",
      "Requirement already satisfied: google-pasta~=0.2 in /opt/app-root/lib/python3.8/site-packages (from tensorflow>=2.4.*->-r requirements.txt (line 6)) (0.2.0)\n",
      "Requirement already satisfied: h5py~=2.10.0 in /opt/app-root/lib/python3.8/site-packages (from tensorflow>=2.4.*->-r requirements.txt (line 6)) (2.10.0)\n",
      "Requirement already satisfied: threadpoolctl>=2.0.0 in /opt/app-root/lib/python3.8/site-packages (from scikit-learn>=0.22.*->-r requirements.txt (line 7)) (2.2.0)\n",
      "Requirement already satisfied: joblib>=0.11 in /opt/app-root/lib/python3.8/site-packages (from scikit-learn>=0.22.*->-r requirements.txt (line 7)) (1.0.1)\n",
      "Requirement already satisfied: pytz>=2017.3 in /opt/app-root/lib/python3.8/site-packages (from pandas>=1.2.4->-r requirements.txt (line 9)) (2021.1)\n",
      "Requirement already satisfied: python-dateutil>=2.7.3 in /opt/app-root/lib/python3.8/site-packages (from pandas>=1.2.4->-r requirements.txt (line 9)) (2.8.2)\n",
      "Requirement already satisfied: pyyaml in /opt/app-root/lib/python3.8/site-packages (from keras>=2.4.*->-r requirements.txt (line 10)) (5.4.1)\n",
      "Requirement already satisfied: pyparsing>=2.2.1 in /opt/app-root/lib/python3.8/site-packages (from matplotlib>=1.4.3->-r requirements.txt (line 14)) (2.4.7)\n",
      "Requirement already satisfied: kiwisolver>=1.0.1 in /opt/app-root/lib/python3.8/site-packages (from matplotlib>=1.4.3->-r requirements.txt (line 14)) (1.3.2)\n",
      "Requirement already satisfied: cycler>=0.10 in /opt/app-root/lib/python3.8/site-packages (from matplotlib>=1.4.3->-r requirements.txt (line 14)) (0.10.0)\n",
      "Requirement already satisfied: MarkupSafe>=2.0 in /opt/app-root/lib/python3.8/site-packages (from Jinja2>=3.0->Flask->-r requirements.txt (line 1)) (2.0.1)\n",
      "Requirement already satisfied: filelock in /opt/app-root/lib/python3.8/site-packages (from ray>=1.6->xgboost_ray->-r requirements.txt (line 4)) (3.0.12)\n",
      "Requirement already satisfied: attrs in /opt/app-root/lib/python3.8/site-packages (from ray>=1.6->xgboost_ray->-r requirements.txt (line 4)) (21.2.0)\n",
      "Requirement already satisfied: redis>=3.5.0 in /opt/app-root/lib/python3.8/site-packages (from ray>=1.6->xgboost_ray->-r requirements.txt (line 4)) (4.1.1)\n",
      "Requirement already satisfied: jsonschema in /opt/app-root/lib/python3.8/site-packages (from ray>=1.6->xgboost_ray->-r requirements.txt (line 4)) (3.2.0)\n",
      "Requirement already satisfied: msgpack<2.0.0,>=1.0.0 in /opt/app-root/lib/python3.8/site-packages (from ray>=1.6->xgboost_ray->-r requirements.txt (line 4)) (1.0.2)\n",
      "Requirement already satisfied: google-auth-oauthlib<0.5,>=0.4.1 in /opt/app-root/lib/python3.8/site-packages (from tensorboard~=2.4->tensorflow>=2.4.*->-r requirements.txt (line 6)) (0.4.6)\n",
      "Requirement already satisfied: tensorboard-plugin-wit>=1.6.0 in /opt/app-root/lib/python3.8/site-packages (from tensorboard~=2.4->tensorflow>=2.4.*->-r requirements.txt (line 6)) (1.8.0)\n",
      "Requirement already satisfied: google-auth<3,>=1.6.3 in /opt/app-root/lib/python3.8/site-packages (from tensorboard~=2.4->tensorflow>=2.4.*->-r requirements.txt (line 6)) (1.35.0)\n",
      "Requirement already satisfied: markdown>=2.6.8 in /opt/app-root/lib/python3.8/site-packages (from tensorboard~=2.4->tensorflow>=2.4.*->-r requirements.txt (line 6)) (3.3.4)\n",
      "Requirement already satisfied: tensorboard-data-server<0.7.0,>=0.6.0 in /opt/app-root/lib/python3.8/site-packages (from tensorboard~=2.4->tensorflow>=2.4.*->-r requirements.txt (line 6)) (0.6.1)\n",
      "Requirement already satisfied: rsa<5,>=3.1.4 in /opt/app-root/lib/python3.8/site-packages (from google-auth<3,>=1.6.3->tensorboard~=2.4->tensorflow>=2.4.*->-r requirements.txt (line 6)) (4.7.2)\n",
      "Requirement already satisfied: cachetools<5.0,>=2.0.0 in /opt/app-root/lib/python3.8/site-packages (from google-auth<3,>=1.6.3->tensorboard~=2.4->tensorflow>=2.4.*->-r requirements.txt (line 6)) (4.2.2)\n",
      "Requirement already satisfied: pyasn1-modules>=0.2.1 in /opt/app-root/lib/python3.8/site-packages (from google-auth<3,>=1.6.3->tensorboard~=2.4->tensorflow>=2.4.*->-r requirements.txt (line 6)) (0.2.8)\n",
      "Requirement already satisfied: requests-oauthlib>=0.7.0 in /opt/app-root/lib/python3.8/site-packages (from google-auth-oauthlib<0.5,>=0.4.1->tensorboard~=2.4->tensorflow>=2.4.*->-r requirements.txt (line 6)) (1.3.0)\n",
      "Requirement already satisfied: deprecated>=1.2.3 in /opt/app-root/lib/python3.8/site-packages (from redis>=3.5.0->ray>=1.6->xgboost_ray->-r requirements.txt (line 4)) (1.2.13)\n",
      "Requirement already satisfied: packaging>=20.4 in /opt/app-root/lib/python3.8/site-packages (from redis>=3.5.0->ray>=1.6->xgboost_ray->-r requirements.txt (line 4)) (21.0)\n",
      "Requirement already satisfied: pyrsistent>=0.14.0 in /opt/app-root/lib/python3.8/site-packages (from jsonschema->ray>=1.6->xgboost_ray->-r requirements.txt (line 4)) (0.18.0)\n",
      "Requirement already satisfied: pyasn1<0.5.0,>=0.4.6 in /opt/app-root/lib/python3.8/site-packages (from pyasn1-modules>=0.2.1->google-auth<3,>=1.6.3->tensorboard~=2.4->tensorflow>=2.4.*->-r requirements.txt (line 6)) (0.4.8)\n",
      "Requirement already satisfied: oauthlib>=3.0.0 in /opt/app-root/lib/python3.8/site-packages (from requests-oauthlib>=0.7.0->google-auth-oauthlib<0.5,>=0.4.1->tensorboard~=2.4->tensorflow>=2.4.*->-r requirements.txt (line 6)) (3.1.1)\n"
     ]
    }
   ],
   "source": [
    "import sys\n",
    "!{sys.executable} -m pip install -r requirements.txt\n"
   ]
  },
  {
   "cell_type": "code",
   "execution_count": 10,
   "metadata": {},
   "outputs": [
    {
     "name": "stdout",
     "output_type": "stream",
     "text": [
      " * Serving Flask app 'wsgi.py' (lazy loading)\n",
      " * Environment: development\n",
      " * Debug mode: on\n",
      "2022-01-24 18:09:22.518820: I tensorflow/stream_executor/platform/default/dso_loader.cc:49] Successfully opened dynamic library libcudart.so.11.0\n",
      " * Running on http://127.0.0.1:5000/ (Press CTRL+C to quit)\n",
      " * Restarting with watchdog (inotify)\n",
      "2022-01-24 18:09:24.867763: I tensorflow/stream_executor/platform/default/dso_loader.cc:49] Successfully opened dynamic library libcudart.so.11.0\n",
      " * Debugger is active!\n",
      " * Debugger PIN: 881-287-883\n",
      "^C\n"
     ]
    }
   ],
   "source": [
    "!FLASK_ENV=development FLASK_APP=wsgi.py flask run"
   ]
  },
  {
   "cell_type": "code",
   "execution_count": null,
   "metadata": {},
   "outputs": [],
   "source": []
  }
 ],
 "metadata": {
  "kernelspec": {
   "display_name": "Python 3 (ipykernel)",
   "language": "python",
   "name": "python3"
  },
  "language_info": {
   "codemirror_mode": {
    "name": "ipython",
    "version": 3
   },
   "file_extension": ".py",
   "mimetype": "text/x-python",
   "name": "python",
   "nbconvert_exporter": "python",
   "pygments_lexer": "ipython3",
   "version": "3.8.6"
  }
 },
 "nbformat": 4,
 "nbformat_minor": 4
}
